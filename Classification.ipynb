{
 "cells": [
  {
   "cell_type": "code",
   "execution_count": 1,
   "metadata": {},
   "outputs": [
    {
     "name": "stderr",
     "output_type": "stream",
     "text": [
      "Using TensorFlow backend.\n"
     ]
    }
   ],
   "source": [
    "import numpy as np\n",
    "import pandas as pd\n",
    "import pickle\n",
    "import matplotlib.pyplot as plt\n",
    "from keras.layers import Flatten, Dense, GlobalAveragePooling2D,Dropout,Conv2D\n",
    "from keras.applications.densenet import DenseNet121\n",
    "from keras.models import Model\n",
    "import keras.backend as K\n",
    "from sklearn.metrics import roc_auc_score\n",
    "import cv2\n",
    "import os\n",
    "import random\n",
    "from sklearn.utils import shuffle\n",
    "from keras.applications.mobilenetv2 import MobileNetV2\n",
    "from keras.callbacks import Callback,ModelCheckpoint\n",
    "import pydicom\n",
    "from keras.models import *\n",
    "from keras.layers import *\n",
    "from keras.optimizers import *\n",
    "from keras.losses import binary_crossentropy\n",
    "from keras.utils import Sequence\n",
    "from keras import backend as keras\n",
    "from keras.preprocessing.image import ImageDataGenerator\n",
    "from glob import glob\n",
    "from tqdm import tqdm\n",
    "%matplotlib inline"
   ]
  },
  {
   "cell_type": "code",
   "execution_count": 2,
   "metadata": {},
   "outputs": [],
   "source": [
    "from keras.callbacks import Callback\n",
    "from sklearn.metrics import confusion_matrix, f1_score, precision_score, recall_score\n",
    "\n",
    "class Metrics(Callback):\n",
    "    def on_train_begin(self, logs={}):\n",
    "     self.val_f1s = []\n",
    "     self.val_recalls = []\n",
    "     self.val_precisions = []\n",
    "\n",
    "    def on_epoch_end(self, epoch, logs={}):\n",
    "     val_predict = (np.asarray(self.model.predict(X_test_feats))).round()\n",
    "     val_targ = Y_test\n",
    "#      print(val_targ.shape)   \n",
    "#      print(val_targ)\n",
    "#      print(val_predict.shape)   \n",
    "#      print(val_predict)   \n",
    "     targ = []\n",
    "     pred = []\n",
    "     for x in val_targ:\n",
    "        targ.append(np.argmax(x))\n",
    "     for x in val_predict:\n",
    "        pred.append(np.argmax(x))\n",
    "#      print(targ)\n",
    "#      print(pred)\n",
    "        \n",
    "     _val_f1 = f1_score(targ, pred)\n",
    "     \n",
    "     _val_recall = recall_score(targ, pred)\n",
    "     _val_precision = precision_score(targ, pred)\n",
    "     self.val_f1s.append(_val_f1)\n",
    "     self.val_recalls.append(_val_recall)\n",
    "     self.val_precisions.append(_val_precision)\n",
    "     print(\"— val_f1: {0} — val_precision: {1} — val_recall {2} \".format(_val_f1, _val_precision, _val_recall))\n",
    "     return\n",
    "\n",
    "metrics = Metrics()"
   ]
  },
  {
   "cell_type": "code",
   "execution_count": 3,
   "metadata": {},
   "outputs": [],
   "source": [
    "from sklearn.metrics import roc_auc_score\n",
    "from keras.callbacks import Callback\n",
    "class roc_callback(Callback):\n",
    "    def __init__(self,validation_data):\n",
    "#         self.x = training_data[0]\n",
    "#         self.y = training_data[1]\n",
    "        self.x_val = validation_data[0]\n",
    "        self.y_val = validation_data[1]\n",
    "\n",
    "\n",
    "    def on_train_begin(self, logs={}):\n",
    "        return\n",
    "\n",
    "    def on_train_end(self, logs={}):\n",
    "        return\n",
    "\n",
    "    def on_epoch_begin(self, epoch, logs={}):\n",
    "        return\n",
    "\n",
    "    def on_epoch_end(self, epoch, logs={}):\n",
    "#         y_pred = self.model.predict(self.x)\n",
    "#         roc = roc_auc_score(self.y, y_pred)\n",
    "        if(epoch%1==0):\n",
    "            print(\"Calc Roc\")\n",
    "            all_rocs = []\n",
    "            y_pred_val = self.model.predict(X_test,verbose=1)\n",
    "            for d in range(15):\n",
    "                try:\n",
    "                    roc_val = roc_auc_score(Y_test[:,d], y_pred_val[:,d])\n",
    "                    all_rocs.append(roc_val)\n",
    "                except:\n",
    "                    pass\n",
    "            all_rocs = np.array(all_rocs)\n",
    "            mean_roc = np.mean(all_rocs)\n",
    "            \n",
    "            f1s = {}\n",
    "            for d in range(15):\n",
    "                try:\n",
    "                    score = f1_score(Y_test[:,d], np.around(y_pred_val[:,d]))\n",
    "                    f1s[global_cls[d]] = score\n",
    "                except:\n",
    "                    print(global_cls[d])\n",
    "            avg_f1 = np.average(list(f1s.values()))\n",
    "            \n",
    "            print(\"ROC VAL {0}\".format(mean_roc))\n",
    "            print(\"AVG F1 {0}\".format(avg_f1))\n",
    "        return\n",
    "\n",
    "    def on_batch_begin(self, batch, logs={}):\n",
    "        return\n",
    "\n",
    "    def on_batch_end(self, batch, logs={}):\n",
    "        return"
   ]
  },
  {
   "cell_type": "code",
   "execution_count": 5,
   "metadata": {},
   "outputs": [],
   "source": [
    "roc_call =roc_callback((X_test,Y_test))"
   ]
  },
  {
   "cell_type": "code",
   "execution_count": 6,
   "metadata": {},
   "outputs": [],
   "source": [
    "global_cls = []\n",
    "global_cls = np.array(global_cls)"
   ]
  },
  {
   "cell_type": "markdown",
   "metadata": {},
   "source": [
    "# Model 1: DenseNet121"
   ]
  },
  {
   "cell_type": "code",
   "execution_count": 7,
   "metadata": {},
   "outputs": [],
   "source": [
    "def unweighted_binary_crossentropy(y_true, y_pred):\n",
    "    return K.mean(K.binary_crossentropy(y_true, y_pred))"
   ]
  },
  {
   "cell_type": "code",
   "execution_count": 8,
   "metadata": {},
   "outputs": [],
   "source": [
    "dense_model = DenseNet121(weights='imagenet', include_top=False,input_shape=(224,224,3),pooling='avg')"
   ]
  },
  {
   "cell_type": "code",
   "execution_count": 9,
   "metadata": {},
   "outputs": [],
   "source": [
    "preds = Dense(14,activation='sigmoid')(dense_model.output)\n",
    "model = Model(dense_model.input,preds)\n",
    "model.compile(optimizer='rmsprop',loss=unweighted_binary_crossentropy,metrics=['accuracy'])\n",
    "model.load_weights('weights.hdf5')\n",
    "\n",
    "#pad_model = DenseNet121\n",
    "\n",
    "#Approx F1 : 35-36"
   ]
  },
  {
   "cell_type": "code",
   "execution_count": 10,
   "metadata": {},
   "outputs": [],
   "source": [
    "new_preds = Dense(15,activation='sigmoid')(dense_model.output)\n",
    "pad_model = Model(dense_model.input,new_preds)\n",
    "pad_model.compile(optimizer='rmsprop',loss=unweighted_binary_crossentropy,metrics=['accuracy'])"
   ]
  },
  {
   "cell_type": "code",
   "execution_count": 12,
   "metadata": {},
   "outputs": [],
   "source": [
    "model_checkpoint = ModelCheckpoint(\n",
    "        os.path.join('./', 'DenseNet.hdf5'),\n",
    "        monitor='val_acc', mode='max',save_best_only=True, verbose=1)\n",
    "callbacks = [model_checkpoint, roc_call]"
   ]
  },
  {
   "cell_type": "code",
   "execution_count": null,
   "metadata": {
    "collapsed": true
   },
   "outputs": [
    {
     "name": "stdout",
     "output_type": "stream",
     "text": [
      "Train on 13118 samples, validate on 12815 samples\n",
      "Epoch 1/50\n",
      "13118/13118 [==============================] - 488s 37ms/step - loss: 0.1322 - acc: 0.1600 - val_loss: 0.1436 - val_acc: 0.1205\n",
      "\n",
      "Epoch 00001: val_acc improved from -inf to 0.12048, saving model to ./DenseNet.hdf5\n",
      "Calc Roc\n",
      "12815/12815 [==============================] - 111s 9ms/step\n",
      "ROC VAL 0.912570202205982\n",
      "AVG F1 0.17125509194651165\n",
      "Epoch 2/50\n"
     ]
    },
    {
     "name": "stderr",
     "output_type": "stream",
     "text": [
      "/usr/local/lib/python3.5/site-packages/sklearn/metrics/classification.py:1135: UndefinedMetricWarning: F-score is ill-defined and being set to 0.0 due to no predicted samples.\n",
      "  'precision', 'predicted', average, warn_for)\n"
     ]
    },
    {
     "name": "stdout",
     "output_type": "stream",
     "text": [
      "13118/13118 [==============================] - 451s 34ms/step - loss: 0.1023 - acc: 0.1971 - val_loss: 0.1364 - val_acc: 0.1383\n",
      "\n",
      "Epoch 00002: val_acc improved from 0.12048 to 0.13828, saving model to ./DenseNet.hdf5\n",
      "Calc Roc\n",
      "12815/12815 [==============================] - 108s 8ms/step\n",
      "ROC VAL 0.9214705717303991\n",
      "AVG F1 0.27097151511540946\n",
      "Epoch 3/50\n",
      "13118/13118 [==============================] - 451s 34ms/step - loss: 0.0878 - acc: 0.2202 - val_loss: 0.1833 - val_acc: 0.1413\n",
      "\n",
      "Epoch 00003: val_acc improved from 0.13828 to 0.14132, saving model to ./DenseNet.hdf5\n",
      "Calc Roc\n",
      "12815/12815 [==============================] - 107s 8ms/step\n",
      "ROC VAL 0.9098418936034529\n",
      "AVG F1 0.2765162898343201\n",
      "Epoch 4/50\n",
      "13118/13118 [==============================] - 450s 34ms/step - loss: 0.0746 - acc: 0.2417 - val_loss: 0.1658 - val_acc: 0.1606\n",
      "\n",
      "Epoch 00004: val_acc improved from 0.14132 to 0.16059, saving model to ./DenseNet.hdf5\n",
      "Calc Roc\n",
      "12815/12815 [==============================] - 108s 8ms/step\n",
      "ROC VAL 0.9206857835049173\n",
      "AVG F1 0.3530964224522879\n",
      "Epoch 5/50\n",
      "13118/13118 [==============================] - 451s 34ms/step - loss: 0.0622 - acc: 0.2538 - val_loss: 0.1782 - val_acc: 0.1652\n",
      "\n",
      "Epoch 00005: val_acc improved from 0.16059 to 0.16520, saving model to ./DenseNet.hdf5\n",
      "Calc Roc\n",
      "12815/12815 [==============================] - 109s 8ms/step\n",
      "ROC VAL 0.9127134229221262\n",
      "AVG F1 0.3284618962857923\n",
      "Epoch 6/50\n",
      "13118/13118 [==============================] - 451s 34ms/step - loss: 0.0514 - acc: 0.2715 - val_loss: 0.2944 - val_acc: 0.1398\n",
      "\n",
      "Epoch 00006: val_acc did not improve from 0.16520\n",
      "Calc Roc\n",
      "12815/12815 [==============================] - 108s 8ms/step\n",
      "ROC VAL 0.9061404541306144\n",
      "AVG F1 0.2853052182258555\n",
      "Epoch 7/50\n",
      "13118/13118 [==============================] - 451s 34ms/step - loss: 0.0438 - acc: 0.2767 - val_loss: 0.1938 - val_acc: 0.1557\n",
      "\n",
      "Epoch 00007: val_acc did not improve from 0.16520\n",
      "Calc Roc\n",
      "12815/12815 [==============================] - 108s 8ms/step\n",
      "ROC VAL 0.9156921483092546\n",
      "AVG F1 0.3862407718334376\n",
      "Epoch 8/50\n",
      "13118/13118 [==============================] - 451s 34ms/step - loss: 0.0368 - acc: 0.2949 - val_loss: 0.2979 - val_acc: 0.1302\n",
      "\n",
      "Epoch 00008: val_acc did not improve from 0.16520\n",
      "Calc Roc\n",
      "12815/12815 [==============================] - 108s 8ms/step\n",
      "ROC VAL 0.901787381405551\n",
      "AVG F1 0.28051761131159997\n",
      "Epoch 9/50\n",
      "13118/13118 [==============================] - 451s 34ms/step - loss: 0.0316 - acc: 0.2968 - val_loss: 0.2908 - val_acc: 0.1329\n",
      "\n",
      "Epoch 00009: val_acc did not improve from 0.16520\n",
      "Calc Roc\n",
      "12815/12815 [==============================] - 108s 8ms/step\n",
      "ROC VAL 0.9051709998785732\n",
      "AVG F1 0.31722657455813075\n",
      "Epoch 10/50\n",
      "13118/13118 [==============================] - 451s 34ms/step - loss: 0.0271 - acc: 0.2993 - val_loss: 0.2646 - val_acc: 0.1279\n",
      "\n",
      "Epoch 00010: val_acc did not improve from 0.16520\n",
      "Calc Roc\n",
      "12815/12815 [==============================] - 108s 8ms/step\n",
      "ROC VAL 0.9087063480494179\n",
      "AVG F1 0.3367080012335848\n",
      "Epoch 11/50\n",
      "13118/13118 [==============================] - 451s 34ms/step - loss: 0.0240 - acc: 0.3031 - val_loss: 0.2711 - val_acc: 0.1186\n",
      "\n",
      "Epoch 00011: val_acc did not improve from 0.16520\n",
      "Calc Roc\n",
      "12815/12815 [==============================] - 108s 8ms/step\n",
      "ROC VAL 0.9066245790647887\n",
      "AVG F1 0.35130389411686475\n",
      "Epoch 12/50\n",
      "13118/13118 [==============================] - 451s 34ms/step - loss: 0.0214 - acc: 0.3091 - val_loss: 0.6651 - val_acc: 0.0744\n",
      "\n",
      "Epoch 00012: val_acc did not improve from 0.16520\n",
      "Calc Roc\n",
      "12815/12815 [==============================] - 108s 8ms/step\n",
      "ROC VAL 0.8700629743686192\n",
      "AVG F1 0.2003200159648191\n",
      "Epoch 13/50\n",
      "13118/13118 [==============================] - 451s 34ms/step - loss: 0.0195 - acc: 0.3116 - val_loss: 0.2572 - val_acc: 0.1409\n",
      "\n",
      "Epoch 00013: val_acc did not improve from 0.16520\n",
      "Calc Roc\n",
      "12815/12815 [==============================] - 108s 8ms/step\n",
      "ROC VAL 0.9093779373019991\n",
      "AVG F1 0.3455476122768487\n",
      "Epoch 14/50\n",
      " 2368/13118 [====>.........................] - ETA: 4:41 - loss: 0.0153 - acc: 0.2948"
     ]
    }
   ],
   "source": [
    "pad_model.fit(X_train,Y_train,validation_data=(X_test,Y_test), epochs=50, batch_size = 32, callbacks=callbacks)"
   ]
  },
  {
   "cell_type": "code",
   "execution_count": 11,
   "metadata": {},
   "outputs": [],
   "source": [
    "pad_model.load_weights('./DenseNet.hdf5')"
   ]
  },
  {
   "cell_type": "code",
   "execution_count": 12,
   "metadata": {},
   "outputs": [
    {
     "name": "stdout",
     "output_type": "stream",
     "text": [
      "12815/12815 [==============================] - 113s 9ms/step\n"
     ]
    }
   ],
   "source": [
    "test_preds = pad_model.predict(X_test, verbose = 1)"
   ]
  },
  {
   "cell_type": "markdown",
   "metadata": {},
   "source": [
    "# Model 2: MobileNetv2"
   ]
  },
  {
   "cell_type": "code",
   "execution_count": 7,
   "metadata": {},
   "outputs": [],
   "source": [
    "mobilenet_model = MobileNetV2(weights='imagenet', include_top=False,input_shape=(224,224,3),pooling='avg')\n",
    "preds = Dense(15,activation='softmax')(mobilenet_model.output)\n",
    "model = Model(mobilenet_model.input,preds)\n",
    "model.compile(optimizer='rmsprop',loss='categorical_crossentropy',metrics=['accuracy'])"
   ]
  },
  {
   "cell_type": "code",
   "execution_count": 8,
   "metadata": {},
   "outputs": [],
   "source": [
    "model_checkpoint = ModelCheckpoint(\n",
    "        os.path.join('./', 'mobilenet.hdf5'),\n",
    "        monitor='val_acc', mode='max',save_best_only=True, verbose=1)\n",
    "callbacks = [model_checkpoint, roc_call]"
   ]
  },
  {
   "cell_type": "code",
   "execution_count": 9,
   "metadata": {
    "collapsed": true
   },
   "outputs": [
    {
     "name": "stdout",
     "output_type": "stream",
     "text": [
      "Train on 13118 samples, validate on 12815 samples\n",
      "Epoch 1/50\n",
      "13118/13118 [==============================] - 218s 17ms/step - loss: 1.6846 - acc: 0.1138 - val_loss: 6.7484 - val_acc: 0.0771\n",
      "\n",
      "Epoch 00001: val_acc improved from -inf to 0.07710, saving model to ./mobilenet.hdf5\n",
      "Calc Roc\n",
      "12815/12815 [==============================] - 42s 3ms/step\n",
      "ROC VAL 0.748363649175161\n",
      "AVG F1 0.026050908041063022\n",
      "Epoch 2/50\n"
     ]
    },
    {
     "name": "stderr",
     "output_type": "stream",
     "text": [
      "/usr/local/lib/python3.5/site-packages/sklearn/metrics/classification.py:1135: UndefinedMetricWarning: F-score is ill-defined and being set to 0.0 due to no predicted samples.\n",
      "  'precision', 'predicted', average, warn_for)\n"
     ]
    },
    {
     "name": "stdout",
     "output_type": "stream",
     "text": [
      "13118/13118 [==============================] - 206s 16ms/step - loss: 1.5705 - acc: 0.1302 - val_loss: 7.6532 - val_acc: 0.0371\n",
      "\n",
      "Epoch 00002: val_acc did not improve from 0.07710\n",
      "Calc Roc\n",
      "12815/12815 [==============================] - 41s 3ms/step\n",
      "ROC VAL 0.6210831577707151\n",
      "AVG F1 0.035024478505006715\n",
      "Epoch 3/50\n",
      "13118/13118 [==============================] - 206s 16ms/step - loss: 1.5184 - acc: 0.1437 - val_loss: 6.2247 - val_acc: 0.1020\n",
      "\n",
      "Epoch 00003: val_acc improved from 0.07710 to 0.10199, saving model to ./mobilenet.hdf5\n",
      "Calc Roc\n",
      "12815/12815 [==============================] - 41s 3ms/step\n",
      "ROC VAL 0.7129307086355929\n",
      "AVG F1 0.03170762738201333\n",
      "Epoch 4/50\n",
      "13118/13118 [==============================] - 206s 16ms/step - loss: 1.4733 - acc: 0.1491 - val_loss: 6.7200 - val_acc: 0.0925\n",
      "\n",
      "Epoch 00004: val_acc did not improve from 0.10199\n",
      "Calc Roc\n",
      "12815/12815 [==============================] - 41s 3ms/step\n",
      "ROC VAL 0.66897588125275\n",
      "AVG F1 0.022408282574436396\n",
      "Epoch 5/50\n",
      "13118/13118 [==============================] - 206s 16ms/step - loss: 1.4316 - acc: 0.1522 - val_loss: 6.4263 - val_acc: 0.0864\n",
      "\n",
      "Epoch 00005: val_acc did not improve from 0.10199\n",
      "Calc Roc\n",
      "12815/12815 [==============================] - 41s 3ms/step\n",
      "ROC VAL 0.6782103779522851\n",
      "AVG F1 0.03810868851569327\n",
      "Epoch 6/50\n",
      "13118/13118 [==============================] - 206s 16ms/step - loss: 1.3933 - acc: 0.1630 - val_loss: 4.3496 - val_acc: 0.0732\n",
      "\n",
      "Epoch 00006: val_acc did not improve from 0.10199\n",
      "Calc Roc\n",
      "  448/12815 [>.............................] - ETA: 40s"
     ]
    },
    {
     "ename": "KeyboardInterrupt",
     "evalue": "",
     "output_type": "error",
     "traceback": [
      "\u001b[0;31m---------------------------------------------------------------------------\u001b[0m",
      "\u001b[0;31mKeyboardInterrupt\u001b[0m                         Traceback (most recent call last)",
      "\u001b[0;32m<ipython-input-9-cba055d3a2eb>\u001b[0m in \u001b[0;36m<module>\u001b[0;34m\u001b[0m\n\u001b[0;32m----> 1\u001b[0;31m \u001b[0mmodel\u001b[0m\u001b[0;34m.\u001b[0m\u001b[0mfit\u001b[0m\u001b[0;34m(\u001b[0m\u001b[0mX_train\u001b[0m\u001b[0;34m,\u001b[0m\u001b[0mY_train\u001b[0m\u001b[0;34m,\u001b[0m\u001b[0mvalidation_data\u001b[0m\u001b[0;34m=\u001b[0m\u001b[0;34m(\u001b[0m\u001b[0mX_test\u001b[0m\u001b[0;34m,\u001b[0m\u001b[0mY_test\u001b[0m\u001b[0;34m)\u001b[0m\u001b[0;34m,\u001b[0m \u001b[0mepochs\u001b[0m\u001b[0;34m=\u001b[0m\u001b[0;36m50\u001b[0m\u001b[0;34m,\u001b[0m \u001b[0mbatch_size\u001b[0m \u001b[0;34m=\u001b[0m \u001b[0;36m32\u001b[0m\u001b[0;34m,\u001b[0m \u001b[0mcallbacks\u001b[0m\u001b[0;34m=\u001b[0m\u001b[0mcallbacks\u001b[0m\u001b[0;34m)\u001b[0m\u001b[0;34m\u001b[0m\u001b[0m\n\u001b[0m",
      "\u001b[0;32m/usr/local/lib/python3.5/dist-packages/keras/engine/training.py\u001b[0m in \u001b[0;36mfit\u001b[0;34m(self, x, y, batch_size, epochs, verbose, callbacks, validation_split, validation_data, shuffle, class_weight, sample_weight, initial_epoch, steps_per_epoch, validation_steps, **kwargs)\u001b[0m\n\u001b[1;32m   1037\u001b[0m                                         \u001b[0minitial_epoch\u001b[0m\u001b[0;34m=\u001b[0m\u001b[0minitial_epoch\u001b[0m\u001b[0;34m,\u001b[0m\u001b[0;34m\u001b[0m\u001b[0m\n\u001b[1;32m   1038\u001b[0m                                         \u001b[0msteps_per_epoch\u001b[0m\u001b[0;34m=\u001b[0m\u001b[0msteps_per_epoch\u001b[0m\u001b[0;34m,\u001b[0m\u001b[0;34m\u001b[0m\u001b[0m\n\u001b[0;32m-> 1039\u001b[0;31m                                         validation_steps=validation_steps)\n\u001b[0m\u001b[1;32m   1040\u001b[0m \u001b[0;34m\u001b[0m\u001b[0m\n\u001b[1;32m   1041\u001b[0m     def evaluate(self, x=None, y=None,\n",
      "\u001b[0;32m/usr/local/lib/python3.5/dist-packages/keras/engine/training_arrays.py\u001b[0m in \u001b[0;36mfit_loop\u001b[0;34m(model, f, ins, out_labels, batch_size, epochs, verbose, callbacks, val_f, val_ins, shuffle, callback_metrics, initial_epoch, steps_per_epoch, validation_steps)\u001b[0m\n\u001b[1;32m    215\u001b[0m                         \u001b[0;32mfor\u001b[0m \u001b[0ml\u001b[0m\u001b[0;34m,\u001b[0m \u001b[0mo\u001b[0m \u001b[0;32min\u001b[0m \u001b[0mzip\u001b[0m\u001b[0;34m(\u001b[0m\u001b[0mout_labels\u001b[0m\u001b[0;34m,\u001b[0m \u001b[0mval_outs\u001b[0m\u001b[0;34m)\u001b[0m\u001b[0;34m:\u001b[0m\u001b[0;34m\u001b[0m\u001b[0m\n\u001b[1;32m    216\u001b[0m                             \u001b[0mepoch_logs\u001b[0m\u001b[0;34m[\u001b[0m\u001b[0;34m'val_'\u001b[0m \u001b[0;34m+\u001b[0m \u001b[0ml\u001b[0m\u001b[0;34m]\u001b[0m \u001b[0;34m=\u001b[0m \u001b[0mo\u001b[0m\u001b[0;34m\u001b[0m\u001b[0m\n\u001b[0;32m--> 217\u001b[0;31m         \u001b[0mcallbacks\u001b[0m\u001b[0;34m.\u001b[0m\u001b[0mon_epoch_end\u001b[0m\u001b[0;34m(\u001b[0m\u001b[0mepoch\u001b[0m\u001b[0;34m,\u001b[0m \u001b[0mepoch_logs\u001b[0m\u001b[0;34m)\u001b[0m\u001b[0;34m\u001b[0m\u001b[0m\n\u001b[0m\u001b[1;32m    218\u001b[0m         \u001b[0;32mif\u001b[0m \u001b[0mcallback_model\u001b[0m\u001b[0;34m.\u001b[0m\u001b[0mstop_training\u001b[0m\u001b[0;34m:\u001b[0m\u001b[0;34m\u001b[0m\u001b[0m\n\u001b[1;32m    219\u001b[0m             \u001b[0;32mbreak\u001b[0m\u001b[0;34m\u001b[0m\u001b[0m\n",
      "\u001b[0;32m/usr/local/lib/python3.5/dist-packages/keras/callbacks.py\u001b[0m in \u001b[0;36mon_epoch_end\u001b[0;34m(self, epoch, logs)\u001b[0m\n\u001b[1;32m     77\u001b[0m         \u001b[0mlogs\u001b[0m \u001b[0;34m=\u001b[0m \u001b[0mlogs\u001b[0m \u001b[0;32mor\u001b[0m \u001b[0;34m{\u001b[0m\u001b[0;34m}\u001b[0m\u001b[0;34m\u001b[0m\u001b[0m\n\u001b[1;32m     78\u001b[0m         \u001b[0;32mfor\u001b[0m \u001b[0mcallback\u001b[0m \u001b[0;32min\u001b[0m \u001b[0mself\u001b[0m\u001b[0;34m.\u001b[0m\u001b[0mcallbacks\u001b[0m\u001b[0;34m:\u001b[0m\u001b[0;34m\u001b[0m\u001b[0m\n\u001b[0;32m---> 79\u001b[0;31m             \u001b[0mcallback\u001b[0m\u001b[0;34m.\u001b[0m\u001b[0mon_epoch_end\u001b[0m\u001b[0;34m(\u001b[0m\u001b[0mepoch\u001b[0m\u001b[0;34m,\u001b[0m \u001b[0mlogs\u001b[0m\u001b[0;34m)\u001b[0m\u001b[0;34m\u001b[0m\u001b[0m\n\u001b[0m\u001b[1;32m     80\u001b[0m \u001b[0;34m\u001b[0m\u001b[0m\n\u001b[1;32m     81\u001b[0m     \u001b[0;32mdef\u001b[0m \u001b[0mon_batch_begin\u001b[0m\u001b[0;34m(\u001b[0m\u001b[0mself\u001b[0m\u001b[0;34m,\u001b[0m \u001b[0mbatch\u001b[0m\u001b[0;34m,\u001b[0m \u001b[0mlogs\u001b[0m\u001b[0;34m=\u001b[0m\u001b[0;32mNone\u001b[0m\u001b[0;34m)\u001b[0m\u001b[0;34m:\u001b[0m\u001b[0;34m\u001b[0m\u001b[0m\n",
      "\u001b[0;32m<ipython-input-3-8d4267a7d6b6>\u001b[0m in \u001b[0;36mon_epoch_end\u001b[0;34m(self, epoch, logs)\u001b[0m\n\u001b[1;32m     24\u001b[0m             \u001b[0mprint\u001b[0m\u001b[0;34m(\u001b[0m\u001b[0;34m\"Calc Roc\"\u001b[0m\u001b[0;34m)\u001b[0m\u001b[0;34m\u001b[0m\u001b[0m\n\u001b[1;32m     25\u001b[0m             \u001b[0mall_rocs\u001b[0m \u001b[0;34m=\u001b[0m \u001b[0;34m[\u001b[0m\u001b[0;34m]\u001b[0m\u001b[0;34m\u001b[0m\u001b[0m\n\u001b[0;32m---> 26\u001b[0;31m             \u001b[0my_pred_val\u001b[0m \u001b[0;34m=\u001b[0m \u001b[0mself\u001b[0m\u001b[0;34m.\u001b[0m\u001b[0mmodel\u001b[0m\u001b[0;34m.\u001b[0m\u001b[0mpredict\u001b[0m\u001b[0;34m(\u001b[0m\u001b[0mX_test\u001b[0m\u001b[0;34m,\u001b[0m\u001b[0mverbose\u001b[0m\u001b[0;34m=\u001b[0m\u001b[0;36m1\u001b[0m\u001b[0;34m)\u001b[0m\u001b[0;34m\u001b[0m\u001b[0m\n\u001b[0m\u001b[1;32m     27\u001b[0m             \u001b[0;32mfor\u001b[0m \u001b[0md\u001b[0m \u001b[0;32min\u001b[0m \u001b[0mrange\u001b[0m\u001b[0;34m(\u001b[0m\u001b[0;36m15\u001b[0m\u001b[0;34m)\u001b[0m\u001b[0;34m:\u001b[0m\u001b[0;34m\u001b[0m\u001b[0m\n\u001b[1;32m     28\u001b[0m                 \u001b[0;32mtry\u001b[0m\u001b[0;34m:\u001b[0m\u001b[0;34m\u001b[0m\u001b[0m\n",
      "\u001b[0;32m/usr/local/lib/python3.5/dist-packages/keras/engine/training.py\u001b[0m in \u001b[0;36mpredict\u001b[0;34m(self, x, batch_size, verbose, steps)\u001b[0m\n\u001b[1;32m   1167\u001b[0m                                             \u001b[0mbatch_size\u001b[0m\u001b[0;34m=\u001b[0m\u001b[0mbatch_size\u001b[0m\u001b[0;34m,\u001b[0m\u001b[0;34m\u001b[0m\u001b[0m\n\u001b[1;32m   1168\u001b[0m                                             \u001b[0mverbose\u001b[0m\u001b[0;34m=\u001b[0m\u001b[0mverbose\u001b[0m\u001b[0;34m,\u001b[0m\u001b[0;34m\u001b[0m\u001b[0m\n\u001b[0;32m-> 1169\u001b[0;31m                                             steps=steps)\n\u001b[0m\u001b[1;32m   1170\u001b[0m \u001b[0;34m\u001b[0m\u001b[0m\n\u001b[1;32m   1171\u001b[0m     def train_on_batch(self, x, y,\n",
      "\u001b[0;32m/usr/local/lib/python3.5/dist-packages/keras/engine/training_arrays.py\u001b[0m in \u001b[0;36mpredict_loop\u001b[0;34m(model, f, ins, batch_size, verbose, steps)\u001b[0m\n\u001b[1;32m    292\u001b[0m                 \u001b[0mins_batch\u001b[0m\u001b[0;34m[\u001b[0m\u001b[0mi\u001b[0m\u001b[0;34m]\u001b[0m \u001b[0;34m=\u001b[0m \u001b[0mins_batch\u001b[0m\u001b[0;34m[\u001b[0m\u001b[0mi\u001b[0m\u001b[0;34m]\u001b[0m\u001b[0;34m.\u001b[0m\u001b[0mtoarray\u001b[0m\u001b[0;34m(\u001b[0m\u001b[0;34m)\u001b[0m\u001b[0;34m\u001b[0m\u001b[0m\n\u001b[1;32m    293\u001b[0m \u001b[0;34m\u001b[0m\u001b[0m\n\u001b[0;32m--> 294\u001b[0;31m             \u001b[0mbatch_outs\u001b[0m \u001b[0;34m=\u001b[0m \u001b[0mf\u001b[0m\u001b[0;34m(\u001b[0m\u001b[0mins_batch\u001b[0m\u001b[0;34m)\u001b[0m\u001b[0;34m\u001b[0m\u001b[0m\n\u001b[0m\u001b[1;32m    295\u001b[0m             \u001b[0mbatch_outs\u001b[0m \u001b[0;34m=\u001b[0m \u001b[0mto_list\u001b[0m\u001b[0;34m(\u001b[0m\u001b[0mbatch_outs\u001b[0m\u001b[0;34m)\u001b[0m\u001b[0;34m\u001b[0m\u001b[0m\n\u001b[1;32m    296\u001b[0m             \u001b[0;32mif\u001b[0m \u001b[0mbatch_index\u001b[0m \u001b[0;34m==\u001b[0m \u001b[0;36m0\u001b[0m\u001b[0;34m:\u001b[0m\u001b[0;34m\u001b[0m\u001b[0m\n",
      "\u001b[0;32m/usr/local/lib/python3.5/dist-packages/keras/backend/tensorflow_backend.py\u001b[0m in \u001b[0;36m__call__\u001b[0;34m(self, inputs)\u001b[0m\n\u001b[1;32m   2713\u001b[0m                 \u001b[0;32mreturn\u001b[0m \u001b[0mself\u001b[0m\u001b[0;34m.\u001b[0m\u001b[0m_legacy_call\u001b[0m\u001b[0;34m(\u001b[0m\u001b[0minputs\u001b[0m\u001b[0;34m)\u001b[0m\u001b[0;34m\u001b[0m\u001b[0m\n\u001b[1;32m   2714\u001b[0m \u001b[0;34m\u001b[0m\u001b[0m\n\u001b[0;32m-> 2715\u001b[0;31m             \u001b[0;32mreturn\u001b[0m \u001b[0mself\u001b[0m\u001b[0;34m.\u001b[0m\u001b[0m_call\u001b[0m\u001b[0;34m(\u001b[0m\u001b[0minputs\u001b[0m\u001b[0;34m)\u001b[0m\u001b[0;34m\u001b[0m\u001b[0m\n\u001b[0m\u001b[1;32m   2716\u001b[0m         \u001b[0;32melse\u001b[0m\u001b[0;34m:\u001b[0m\u001b[0;34m\u001b[0m\u001b[0m\n\u001b[1;32m   2717\u001b[0m             \u001b[0;32mif\u001b[0m \u001b[0mpy_any\u001b[0m\u001b[0;34m(\u001b[0m\u001b[0mis_tensor\u001b[0m\u001b[0;34m(\u001b[0m\u001b[0mx\u001b[0m\u001b[0;34m)\u001b[0m \u001b[0;32mfor\u001b[0m \u001b[0mx\u001b[0m \u001b[0;32min\u001b[0m \u001b[0minputs\u001b[0m\u001b[0;34m)\u001b[0m\u001b[0;34m:\u001b[0m\u001b[0;34m\u001b[0m\u001b[0m\n",
      "\u001b[0;32m/usr/local/lib/python3.5/dist-packages/keras/backend/tensorflow_backend.py\u001b[0m in \u001b[0;36m_call\u001b[0;34m(self, inputs)\u001b[0m\n\u001b[1;32m   2673\u001b[0m             \u001b[0mfetched\u001b[0m \u001b[0;34m=\u001b[0m \u001b[0mself\u001b[0m\u001b[0;34m.\u001b[0m\u001b[0m_callable_fn\u001b[0m\u001b[0;34m(\u001b[0m\u001b[0;34m*\u001b[0m\u001b[0marray_vals\u001b[0m\u001b[0;34m,\u001b[0m \u001b[0mrun_metadata\u001b[0m\u001b[0;34m=\u001b[0m\u001b[0mself\u001b[0m\u001b[0;34m.\u001b[0m\u001b[0mrun_metadata\u001b[0m\u001b[0;34m)\u001b[0m\u001b[0;34m\u001b[0m\u001b[0m\n\u001b[1;32m   2674\u001b[0m         \u001b[0;32melse\u001b[0m\u001b[0;34m:\u001b[0m\u001b[0;34m\u001b[0m\u001b[0m\n\u001b[0;32m-> 2675\u001b[0;31m             \u001b[0mfetched\u001b[0m \u001b[0;34m=\u001b[0m \u001b[0mself\u001b[0m\u001b[0;34m.\u001b[0m\u001b[0m_callable_fn\u001b[0m\u001b[0;34m(\u001b[0m\u001b[0;34m*\u001b[0m\u001b[0marray_vals\u001b[0m\u001b[0;34m)\u001b[0m\u001b[0;34m\u001b[0m\u001b[0m\n\u001b[0m\u001b[1;32m   2676\u001b[0m         \u001b[0;32mreturn\u001b[0m \u001b[0mfetched\u001b[0m\u001b[0;34m[\u001b[0m\u001b[0;34m:\u001b[0m\u001b[0mlen\u001b[0m\u001b[0;34m(\u001b[0m\u001b[0mself\u001b[0m\u001b[0;34m.\u001b[0m\u001b[0moutputs\u001b[0m\u001b[0;34m)\u001b[0m\u001b[0;34m]\u001b[0m\u001b[0;34m\u001b[0m\u001b[0m\n\u001b[1;32m   2677\u001b[0m \u001b[0;34m\u001b[0m\u001b[0m\n",
      "\u001b[0;32m/usr/local/lib/python3.5/dist-packages/tensorflow/python/client/session.py\u001b[0m in \u001b[0;36m__call__\u001b[0;34m(self, *args, **kwargs)\u001b[0m\n\u001b[1;32m   1397\u001b[0m           ret = tf_session.TF_SessionRunCallable(\n\u001b[1;32m   1398\u001b[0m               \u001b[0mself\u001b[0m\u001b[0;34m.\u001b[0m\u001b[0m_session\u001b[0m\u001b[0;34m.\u001b[0m\u001b[0m_session\u001b[0m\u001b[0;34m,\u001b[0m \u001b[0mself\u001b[0m\u001b[0;34m.\u001b[0m\u001b[0m_handle\u001b[0m\u001b[0;34m,\u001b[0m \u001b[0margs\u001b[0m\u001b[0;34m,\u001b[0m \u001b[0mstatus\u001b[0m\u001b[0;34m,\u001b[0m\u001b[0;34m\u001b[0m\u001b[0m\n\u001b[0;32m-> 1399\u001b[0;31m               run_metadata_ptr)\n\u001b[0m\u001b[1;32m   1400\u001b[0m         \u001b[0;32mif\u001b[0m \u001b[0mrun_metadata\u001b[0m\u001b[0;34m:\u001b[0m\u001b[0;34m\u001b[0m\u001b[0m\n\u001b[1;32m   1401\u001b[0m           \u001b[0mproto_data\u001b[0m \u001b[0;34m=\u001b[0m \u001b[0mtf_session\u001b[0m\u001b[0;34m.\u001b[0m\u001b[0mTF_GetBuffer\u001b[0m\u001b[0;34m(\u001b[0m\u001b[0mrun_metadata_ptr\u001b[0m\u001b[0;34m)\u001b[0m\u001b[0;34m\u001b[0m\u001b[0m\n",
      "\u001b[0;31mKeyboardInterrupt\u001b[0m: "
     ]
    }
   ],
   "source": [
    "model.fit(X_train,Y_train,validation_data=(X_test,Y_test), epochs=50, batch_size = 32, callbacks=callbacks)"
   ]
  },
  {
   "cell_type": "code",
   "execution_count": 7,
   "metadata": {},
   "outputs": [],
   "source": [
    "model.load_weights('./mobilenet.hdf5')"
   ]
  },
  {
   "cell_type": "code",
   "execution_count": 8,
   "metadata": {
    "collapsed": true
   },
   "outputs": [
    {
     "name": "stdout",
     "output_type": "stream",
     "text": [
      "12815/12815 [==============================] - 42s 3ms/step\n"
     ]
    }
   ],
   "source": [
    "test_preds = model.predict(X_test, verbose = 1)"
   ]
  },
  {
   "cell_type": "code",
   "execution_count": 9,
   "metadata": {
    "collapsed": true
   },
   "outputs": [
    {
     "name": "stdout",
     "output_type": "stream",
     "text": [
      "12815/12815 [==============================] - 42s 3ms/step\n"
     ]
    },
    {
     "data": {
      "text/plain": [
       "[4.470160653318598, 0.11111978150604761]"
      ]
     },
     "execution_count": 9,
     "metadata": {},
     "output_type": "execute_result"
    }
   ],
   "source": [
    "model.evaluate(X_test,Y_test)"
   ]
  },
  {
   "cell_type": "code",
   "execution_count": 16,
   "metadata": {
    "collapsed": true
   },
   "outputs": [
    {
     "ename": "TypeError",
     "evalue": "unsupported operand type(s) for /: 'dict_values' and 'int'",
     "output_type": "error",
     "traceback": [
      "\u001b[0;31m---------------------------------------------------------------------------\u001b[0m",
      "\u001b[0;31mTypeError\u001b[0m                                 Traceback (most recent call last)",
      "\u001b[0;32m<ipython-input-16-731d781fd929>\u001b[0m in \u001b[0;36m<module>\u001b[0;34m\u001b[0m\n\u001b[1;32m      8\u001b[0m     \u001b[0;32mexcept\u001b[0m\u001b[0;34m:\u001b[0m\u001b[0;34m\u001b[0m\u001b[0m\n\u001b[1;32m      9\u001b[0m         \u001b[0mprint\u001b[0m\u001b[0;34m(\u001b[0m\u001b[0mglobal_cls\u001b[0m\u001b[0;34m[\u001b[0m\u001b[0md\u001b[0m\u001b[0;34m]\u001b[0m\u001b[0;34m)\u001b[0m\u001b[0;34m\u001b[0m\u001b[0m\n\u001b[0;32m---> 10\u001b[0;31m \u001b[0mnp\u001b[0m\u001b[0;34m.\u001b[0m\u001b[0mmean\u001b[0m\u001b[0;34m(\u001b[0m\u001b[0mpad_f1s\u001b[0m\u001b[0;34m.\u001b[0m\u001b[0mvalues\u001b[0m\u001b[0;34m(\u001b[0m\u001b[0;34m)\u001b[0m\u001b[0;34m)\u001b[0m\u001b[0;34m\u001b[0m\u001b[0m\n\u001b[0m",
      "\u001b[0;32m/usr/local/lib/python3.5/site-packages/numpy/core/fromnumeric.py\u001b[0m in \u001b[0;36mmean\u001b[0;34m(a, axis, dtype, out, keepdims)\u001b[0m\n\u001b[1;32m   2918\u001b[0m \u001b[0;34m\u001b[0m\u001b[0m\n\u001b[1;32m   2919\u001b[0m     return _methods._mean(a, axis=axis, dtype=dtype,\n\u001b[0;32m-> 2920\u001b[0;31m                           out=out, **kwargs)\n\u001b[0m\u001b[1;32m   2921\u001b[0m \u001b[0;34m\u001b[0m\u001b[0m\n\u001b[1;32m   2922\u001b[0m \u001b[0;34m\u001b[0m\u001b[0m\n",
      "\u001b[0;32m/usr/local/lib/python3.5/site-packages/numpy/core/_methods.py\u001b[0m in \u001b[0;36m_mean\u001b[0;34m(a, axis, dtype, out, keepdims)\u001b[0m\n\u001b[1;32m     85\u001b[0m             \u001b[0mret\u001b[0m \u001b[0;34m=\u001b[0m \u001b[0mret\u001b[0m\u001b[0;34m.\u001b[0m\u001b[0mdtype\u001b[0m\u001b[0;34m.\u001b[0m\u001b[0mtype\u001b[0m\u001b[0;34m(\u001b[0m\u001b[0mret\u001b[0m \u001b[0;34m/\u001b[0m \u001b[0mrcount\u001b[0m\u001b[0;34m)\u001b[0m\u001b[0;34m\u001b[0m\u001b[0m\n\u001b[1;32m     86\u001b[0m     \u001b[0;32melse\u001b[0m\u001b[0;34m:\u001b[0m\u001b[0;34m\u001b[0m\u001b[0m\n\u001b[0;32m---> 87\u001b[0;31m         \u001b[0mret\u001b[0m \u001b[0;34m=\u001b[0m \u001b[0mret\u001b[0m \u001b[0;34m/\u001b[0m \u001b[0mrcount\u001b[0m\u001b[0;34m\u001b[0m\u001b[0m\n\u001b[0m\u001b[1;32m     88\u001b[0m \u001b[0;34m\u001b[0m\u001b[0m\n\u001b[1;32m     89\u001b[0m     \u001b[0;32mreturn\u001b[0m \u001b[0mret\u001b[0m\u001b[0;34m\u001b[0m\u001b[0m\n",
      "\u001b[0;31mTypeError\u001b[0m: unsupported operand type(s) for /: 'dict_values' and 'int'"
     ]
    }
   ],
   "source": [
    "pad_f1s = {}\n",
    "avg_f1s = []\n",
    "for d in range(15):\n",
    "    try:\n",
    "        score = f1_score(Y_test[:,d], np.around(test_preds[:,d]))\n",
    "        pad_f1s[global_cls[d]] = score\n",
    "        avg_f1s.append(score*np.sum(Y_test[:,d]))\n",
    "    except:\n",
    "        print(global_cls[d])\n",
    "\n",
    "a\n",
    "np.mean(pad_f1s.values())"
   ]
  },
  {
   "cell_type": "markdown",
   "metadata": {},
   "source": [
    "# Model 3:"
   ]
  },
  {
   "cell_type": "code",
   "execution_count": 20,
   "metadata": {},
   "outputs": [
    {
     "data": {
      "text/plain": [
       "0.36492159242160777"
      ]
     },
     "execution_count": 20,
     "metadata": {},
     "output_type": "execute_result"
    }
   ],
   "source": [
    "np.mean(list(pad_f1s.values()))"
   ]
  },
  {
   "cell_type": "code",
   "execution_count": null,
   "metadata": {},
   "outputs": [],
   "source": []
  }
 ],
 "metadata": {
  "kernelspec": {
   "display_name": "Python 3",
   "language": "python",
   "name": "python3"
  },
  "language_info": {
   "codemirror_mode": {
    "name": "ipython",
    "version": 3
   },
   "file_extension": ".py",
   "mimetype": "text/x-python",
   "name": "python",
   "nbconvert_exporter": "python",
   "pygments_lexer": "ipython3",
   "version": "3.8.8"
  }
 },
 "nbformat": 4,
 "nbformat_minor": 2
}
